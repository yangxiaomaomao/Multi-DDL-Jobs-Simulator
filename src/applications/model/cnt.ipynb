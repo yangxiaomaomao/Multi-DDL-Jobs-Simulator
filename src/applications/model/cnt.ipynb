{
 "cells": [
  {
   "cell_type": "code",
   "execution_count": 1,
   "metadata": {},
   "outputs": [
    {
     "name": "stdout",
     "output_type": "stream",
     "text": [
      "ddl-test-crux.cc: 300 行\n",
      "ddl-test.cc: 49 行\n",
      "ddl-flow-recv.h: 61 行\n",
      "ddl-flow-recv.cc: 181 行\n",
      "ddl-app.cc: 346 行\n",
      "ddl-crux.h: 68 行\n",
      "ddl-test.py: 79 行\n",
      "ddl-apps-manager.h: 120 行\n",
      "ddl-test-dag.cc: 76 行\n",
      "ddl-apps-manager.cc: 646 行\n",
      "ddl-topo.cc: 435 行\n",
      "ddl-state.h: 14 行\n",
      "ddl-crux.cc: 240 行\n",
      "ddl-JFP.cc: 264 行\n",
      "ddl-flow-send.cc: 235 行\n",
      "ddl-app.h: 160 行\n",
      "ddl-tools.h: 216 行\n",
      "ddl-topo.h: 120 行\n",
      "ddl-JFP.h: 65 行\n",
      "ddl-flow-send.h: 91 行\n",
      "所有文件的总行数: 3766\n"
     ]
    }
   ],
   "source": [
    "import os\n",
    "\n",
    "def count_lines_in_ddl_files():\n",
    "    total_lines = 0\n",
    "    # 获取当前目录下所有文件\n",
    "    for filename in os.listdir('.'):\n",
    "        # 检查文件名是否以 'ddl' 开头\n",
    "        if filename.startswith('ddl') and os.path.isfile(filename) and \".\" in filename:\n",
    "            with open(filename, 'r', encoding='utf-8') as file:\n",
    "                lines = file.readlines()\n",
    "                line_count = len(lines)\n",
    "                total_lines += line_count\n",
    "                print(f\"{filename}: {line_count} 行\")\n",
    "    return total_lines\n",
    "\n",
    "# 调用函数并打印结果\n",
    "total_lines = count_lines_in_ddl_files()\n",
    "print(f\"所有文件的总行数: {total_lines}\")\n"
   ]
  }
 ],
 "metadata": {
  "kernelspec": {
   "display_name": "base",
   "language": "python",
   "name": "python3"
  },
  "language_info": {
   "codemirror_mode": {
    "name": "ipython",
    "version": 3
   },
   "file_extension": ".py",
   "mimetype": "text/x-python",
   "name": "python",
   "nbconvert_exporter": "python",
   "pygments_lexer": "ipython3",
   "version": "3.12.4"
  }
 },
 "nbformat": 4,
 "nbformat_minor": 2
}
