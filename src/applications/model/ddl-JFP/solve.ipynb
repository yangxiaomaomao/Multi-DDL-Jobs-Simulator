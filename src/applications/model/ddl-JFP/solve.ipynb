{
 "cells": [
  {
   "cell_type": "code",
   "execution_count": 5,
   "metadata": {},
   "outputs": [
    {
     "name": "stdout",
     "output_type": "stream",
     "text": [
      "[(-0.42069578271000396, -6.631043674065006), (4.754029116043338, 1.1310436740650058)]\n"
     ]
    }
   ],
   "source": [
    "from sympy import symbols, Eq, solve\n",
    "\n",
    "# 定义变量\n",
    "x, y, A, B = symbols('x y A B')\n",
    "\n",
    "# 定义方程\n",
    "eq1 = Eq((9 + y) / (y + 1), x)\n",
    "eq2 = Eq((3*x + 3) / (3*x + 1), y)\n",
    "\n",
    "# 求解\n",
    "solution = solve((eq1, eq2), (x, y))\n",
    "\n",
    "# 以小数形式输出\n",
    "decimal_solution = [(float(sol[0].evalf()), float(sol[1].evalf())) for sol in solution]\n",
    "print(decimal_solution)\n"
   ]
  }
 ],
 "metadata": {
  "kernelspec": {
   "display_name": "base",
   "language": "python",
   "name": "python3"
  },
  "language_info": {
   "codemirror_mode": {
    "name": "ipython",
    "version": 3
   },
   "file_extension": ".py",
   "mimetype": "text/x-python",
   "name": "python",
   "nbconvert_exporter": "python",
   "pygments_lexer": "ipython3",
   "version": "3.12.4"
  }
 },
 "nbformat": 4,
 "nbformat_minor": 2
}
