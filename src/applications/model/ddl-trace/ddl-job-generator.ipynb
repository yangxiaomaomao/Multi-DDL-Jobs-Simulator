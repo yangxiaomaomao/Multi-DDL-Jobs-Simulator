{
 "cells": [
  {
   "cell_type": "code",
   "execution_count": 114,
   "metadata": {},
   "outputs": [],
   "source": [
    "import csv\n",
    "import sys\n",
    "import os\n",
    "import pandas as pd\n",
    "import numpy as np\n",
    "import random"
   ]
  },
  {
   "cell_type": "code",
   "execution_count": 115,
   "metadata": {},
   "outputs": [],
   "source": [
    "def get_random_element(l):\n",
    "    num = len(l)\n",
    "    index = random.randint(0, num-1)\n",
    "    return l[index]"
   ]
  },
  {
   "cell_type": "code",
   "execution_count": 116,
   "metadata": {},
   "outputs": [],
   "source": [
    "def generate_job_arrive_time(interval, job_num):\n",
    "    arrive_interval = np.random.poisson(interval, job_num)\n",
    "    arrive_time_list = np.cumsum(arrive_interval).astype(float)\n",
    "    arrive_time_list = [x - arrive_time_list[0] for x in arrive_time_list]\n",
    "    return arrive_time_list\n",
    "    "
   ]
  },
  {
   "cell_type": "code",
   "execution_count": 117,
   "metadata": {},
   "outputs": [],
   "source": [
    "def fill_comp_comm(worker_num, row, index, total, tp_comp_time, tp_comm_size):\n",
    "    if worker_num == 1:\n",
    "        row[\"comp_time\"] = random.randint(1, 10)\n",
    "        row[\"comm_size\"] = 1\n",
    "    else:\n",
    "        if index % 2 == 0:\n",
    "            row[\"comp_time\"] = tp_comp_time\n",
    "            row[\"comm_size\"] = tp_comm_size\n",
    "        elif index % 2 == 1:\n",
    "            row[\"comp_time\"] = 0\n",
    "            row[\"comm_size\"] = 1\n",
    "        if index == total - 1: # embedding traffic\n",
    "            row[\"comp_time\"] = 0\n",
    "            row[\"comm_size\"] = random.randint(2, 4)\n",
    "    "
   ]
  },
  {
   "cell_type": "code",
   "execution_count": 118,
   "metadata": {},
   "outputs": [],
   "source": [
    "total_worker_num = 0"
   ]
  },
  {
   "cell_type": "code",
   "execution_count": 119,
   "metadata": {},
   "outputs": [],
   "source": [
    "\n",
    "def generate_one_trace(template_trace_dir, generate_trace_dir, job_id, arrive_time):\n",
    "    worker_num = get_random_element([1,2,4,8,2,4,8])\n",
    "    global total_worker_num\n",
    "    total_worker_num += worker_num\n",
    "    iter_num = random.randint(20, 30)\n",
    "    # if worker_num == 1:\n",
    "    #     iter_num *= 5\n",
    "    with open(os.path.join(template_trace_dir, f'{worker_num}-worker.csv'), 'r') as f:\n",
    "        reader = csv.DictReader(f)\n",
    "        fieldnames = reader.fieldnames\n",
    "        modified_rows = []\n",
    "        rows = list(reader)  # 将所有行存入列表以便识别最后一个元素\n",
    "        total_rows = len(rows)\n",
    "        tp_comp_time = random.randint(1, 10)\n",
    "        tp_comm_size = random.randint(6, 10)\n",
    "        \n",
    "        for index, row in enumerate(rows):\n",
    "            row[\"arrive_time\"] = arrive_time\n",
    "            row[\"job_id\"] = job_id\n",
    "            row[\"iter_num\"] = iter_num\n",
    "            row[\"worker_num\"] = worker_num\n",
    "\n",
    "            fill_comp_comm(worker_num, row, index, total_rows, tp_comp_time, tp_comm_size)\n",
    "            \n",
    "            row[\"upstream\"] = \"\\\"\" + row[\"upstream\"] + \"\\\"\"\n",
    "            row[\"downstream\"] = \"\\\"\" + row[\"downstream\"] + \"\\\"\"\n",
    "            modified_rows.append(row)\n",
    "    with open(os.path.join(generate_trace_dir, f'ddl-job-{job_id}.csv'), 'w') as f:\n",
    "        writer = csv.DictWriter(f, fieldnames=fieldnames)\n",
    "        writer.writeheader()\n",
    "        for rows in modified_rows:\n",
    "            for v in dict(rows).values():\n",
    "                f.write(str(v) + \",\")\n",
    "            f.write(\"\\n\")"
   ]
  },
  {
   "cell_type": "code",
   "execution_count": 120,
   "metadata": {},
   "outputs": [],
   "source": [
    "def generate_traces(template_trace_dir,generate_trace_dir, job_num, arrive_time_list):\n",
    "    for i in range(job_num):\n",
    "        arrive_time = arrive_time_list[i]\n",
    "        generate_one_trace(template_trace_dir, generate_trace_dir, i, arrive_time)"
   ]
  },
  {
   "cell_type": "code",
   "execution_count": 121,
   "metadata": {},
   "outputs": [
    {
     "name": "stdout",
     "output_type": "stream",
     "text": [
      "[np.float64(0.0), np.float64(11.0), np.float64(18.0), np.float64(32.0), np.float64(44.0), np.float64(52.0), np.float64(55.0), np.float64(68.0), np.float64(76.0), np.float64(84.0)]\n",
      "39\n"
     ]
    }
   ],
   "source": [
    "template_trace_dir = \"job-template\"\n",
    "generate_trace_dir = \"job-generate\"\n",
    "job_num = 10\n",
    "# 3ms comes a job\n",
    "interval = 10\n",
    "arrive_time_list = generate_job_arrive_time(interval, job_num)\n",
    "print(arrive_time_list)\n",
    "generate_traces(template_trace_dir,generate_trace_dir, job_num, arrive_time_list)\n",
    "print(total_worker_num)"
   ]
  },
  {
   "cell_type": "code",
   "execution_count": 122,
   "metadata": {},
   "outputs": [
    {
     "name": "stdout",
     "output_type": "stream",
     "text": [
      "crux: 5.856999999999999\n",
      "crux+: 5.463500000000001\n",
      "worst: 6.647666666666666\n",
      "equal: 4.353666666666666\n",
      "JFP: 4.5975\n"
     ]
    }
   ],
   "source": [
    "import numpy as np\n",
    "iter_time_list = {\n",
    "    \"ideal\": np.array([4,10,3.75]),\n",
    "    \"crux\":  np.array([4.18,37.8,3.87]),\n",
    "    \"crux+\": np.array([4.19,33.6,3.96]),\n",
    "    \"worst\": np.array([17.9,10.5,4.21]),\n",
    "    \"equal\": np.array([7.18, 14.6, 4.12]),\n",
    "    \"JFP\":   np.array([7.95,15.7,3.9])\n",
    "}\n",
    "res_dict = {}\n",
    "for method, times in iter_time_list.items():\n",
    "    if method != \"ideal\":\n",
    "        res_dict[method] = np.sum(times / iter_time_list[\"ideal\"])\n",
    "for method, times in res_dict.items():\n",
    "    print(f\"{method}: {times}\")\n",
    "    res_dict[method] /= res_dict[\"JFP\"]\n",
    "\n",
    "import matplotlib.pyplot as plt\n",
    "# plt.bar(res_dict.keys(), res_dict.values())"
   ]
  }
 ],
 "metadata": {
  "kernelspec": {
   "display_name": "base",
   "language": "python",
   "name": "python3"
  },
  "language_info": {
   "codemirror_mode": {
    "name": "ipython",
    "version": 3
   },
   "file_extension": ".py",
   "mimetype": "text/x-python",
   "name": "python",
   "nbconvert_exporter": "python",
   "pygments_lexer": "ipython3",
   "version": "3.12.4"
  }
 },
 "nbformat": 4,
 "nbformat_minor": 2
}
