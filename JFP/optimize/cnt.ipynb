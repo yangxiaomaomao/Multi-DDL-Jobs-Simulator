{
 "cells": [
  {
   "cell_type": "code",
   "execution_count": 1,
   "metadata": {},
   "outputs": [
    {
     "name": "stdout",
     "output_type": "stream",
     "text": [
      "config.py: 2 行\n",
      "tools.py: 86 行\n",
      "main.py: 60 行\n",
      "__init__.py: 0 行\n",
      "mcts.py: 70 行\n",
      "baseline.py: 116 行\n",
      "node.py: 182 行\n",
      "tree.py: 26 行\n",
      "run.py: 87 行\n",
      "所有文件的总行数: 629\n"
     ]
    }
   ],
   "source": [
    "import os\n",
    "\n",
    "def count_lines_in_ddl_files():\n",
    "    total_lines = 0\n",
    "    # 获取当前目录下所有文件\n",
    "    for filename in os.listdir('.'):\n",
    "        # 检查文件名是否以 'ddl' 开头\n",
    "        if filename.endswith('py') and os.path.isfile(filename) and \".\" in filename:\n",
    "            with open(filename, 'r', encoding='utf-8') as file:\n",
    "                lines = file.readlines()\n",
    "                line_count = len(lines)\n",
    "                total_lines += line_count\n",
    "                print(f\"{filename}: {line_count} 行\")\n",
    "    return total_lines\n",
    "\n",
    "# 调用函数并打印结果\n",
    "total_lines = count_lines_in_ddl_files()\n",
    "print(f\"所有文件的总行数: {total_lines}\")\n"
   ]
  }
 ],
 "metadata": {
  "kernelspec": {
   "display_name": "base",
   "language": "python",
   "name": "python3"
  },
  "language_info": {
   "codemirror_mode": {
    "name": "ipython",
    "version": 3
   },
   "file_extension": ".py",
   "mimetype": "text/x-python",
   "name": "python",
   "nbconvert_exporter": "python",
   "pygments_lexer": "ipython3",
   "version": "3.12.4"
  }
 },
 "nbformat": 4,
 "nbformat_minor": 2
}
