{
 "cells": [
  {
   "cell_type": "code",
   "execution_count": 35,
   "metadata": {},
   "outputs": [
    {
     "name": "stdout",
     "output_type": "stream",
     "text": [
      "Matrix([[X0, X1], [X2, X3]])\n",
      "Matrix([[(10*X2 + 10*X3 + 2)/(10*X3 + 2), (10*X2 + 10*X3 + 2)/(10*X2 + 2)], [(10*X0 + 10*X1 + 2)/(10*X1 + 2), (10*X0 + 10*X1 + 2)/(10*X0 + 2)]])\n",
      "在 X = np.ones(J, L) 处的雅可比矩阵：\n",
      "[[ 0.          0.          0.83333333 -0.69444444]\n",
      " [ 0.          0.         -0.69444444  0.83333333]\n",
      " [ 0.83333333 -0.69444444  0.          0.        ]\n",
      " [-0.69444444  0.83333333  0.          0.        ]]\n",
      "[ 1.52777778 -1.52777778  0.13888889 -0.13888889]\n",
      "谱半径： 1.5277777777777788\n"
     ]
    }
   ],
   "source": [
    "import numpy as np\n",
    "import sympy as sp\n",
    "\n",
    "# 设置 J 和 L\n",
    "J = 2  # 行数\n",
    "L = 2  # 列数\n",
    "\n",
    "# 定义符号变量 X_ij\n",
    "X = sp.symbols('X0:%d' % (J * L))  # 创建一个含有 J*L 个符号变量的列表\n",
    "\n",
    "# 将 X 转换为一个 JxL 矩阵\n",
    "X_matrix = sp.Matrix(J, L, lambda i, j: X[i * L + j])\n",
    "\n",
    "print(X_matrix)\n",
    "\n",
    "# 构造 M(X) 的元素形式\n",
    "def M_ij(X_matrix, j, l, J, L):\n",
    "    # 计算 M(X) 的每个元素\n",
    "    comp_time = 1\n",
    "    comm_time = 10\n",
    "    prod_term = 1\n",
    "    for i in range(J):\n",
    "        numerator = sum([comp_time + comm_time * X_matrix[i, k] for k in range(L)])  # ∑ (1 + X_{j,l})\n",
    "        denominator = numerator - comm_time * X_matrix[i, l]  # ∑ (1 + X_{j,l}) - X_{i,l} * ||i ≠ j||\n",
    "        if i != j: ## i 和 j 不在同一行\n",
    "            prod_term *= (numerator / denominator)\n",
    "    return prod_term\n",
    "\n",
    "# 构造 M(X) 对 X 的雅可比矩阵\n",
    "M_matrix = sp.Matrix(J, L, lambda i, j: M_ij(X_matrix, i, j, J, L))\n",
    "print(M_matrix)\n",
    "# jacobian_matrix = sp.Matrix(J * L, J * L, lambda i, j: \n",
    "#     (sp.diff(M_matrix[i, j], X_matrix[i, j]) for k in range(J) for l in range(L)))\n",
    "jacobian_matrix = sp.zeros(J * L, J * L)\n",
    "for i in range(J):\n",
    "    for j in range(L):\n",
    "        for k in range(J):\n",
    "            for l in range(L):\n",
    "                # M_matrix[i,j] 对 X_matrix[k,l] 的偏导数\n",
    "                jacobian_matrix[i * L + j, k * L + l] = sp.diff(M_matrix[i, j], X_matrix[k, l])\n",
    "# 将符号矩阵中的 X 替换为 numpy 数值（例如: X_matrix = np.ones((J, L)))\n",
    "X_values = np.ones((J, L))\n",
    "\n",
    "# 将 X_matrix 中的符号变量转换为数字矩阵\n",
    "subs_dict = {X_matrix[i, j]: X_values[i, j] for i in range(J) for j in range(L)}\n",
    "\n",
    "# 计算并输出在 X = np.ones((J, L)) 处的雅可比矩阵\n",
    "jacobian_matrix_numeric = np.array([[jacobian_matrix[i, j].subs(subs_dict) for j in range(J * L)] for i in range(J * L)], dtype=np.float64)\n",
    "\n",
    "print(\"在 X = np.ones(J, L) 处的雅可比矩阵：\")\n",
    "print(jacobian_matrix_numeric)\n",
    "# 计算特征值\n",
    "eigenvalues = np.linalg.eigvals(jacobian_matrix_numeric)\n",
    "# 计算谱半径，取特征值的最大绝对值\n",
    "print(eigenvalues)\n",
    "spectral_radius = max(abs(eigenvalues))\n",
    "\n",
    "print(\"谱半径：\", spectral_radius)"
   ]
  }
 ],
 "metadata": {
  "kernelspec": {
   "display_name": "base",
   "language": "python",
   "name": "python3"
  },
  "language_info": {
   "codemirror_mode": {
    "name": "ipython",
    "version": 3
   },
   "file_extension": ".py",
   "mimetype": "text/x-python",
   "name": "python",
   "nbconvert_exporter": "python",
   "pygments_lexer": "ipython3",
   "version": "3.12.4"
  }
 },
 "nbformat": 4,
 "nbformat_minor": 2
}
